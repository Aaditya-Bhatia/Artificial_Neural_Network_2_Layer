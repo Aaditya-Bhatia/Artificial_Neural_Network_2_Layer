{
 "cells": [
  {
   "cell_type": "markdown",
   "metadata": {},
   "source": [
    "## Aaditya Bhatia\n",
    "February 21, 2019"
   ]
  },
  {
   "cell_type": "markdown",
   "metadata": {},
   "source": [
    "## Part 1\n",
    "A two layer neural network is trained on XOR gate"
   ]
  },
  {
   "cell_type": "code",
   "execution_count": 36,
   "metadata": {
    "scrolled": true
   },
   "outputs": [
    {
     "name": "stdout",
     "output_type": "stream",
     "text": [
      "('Y one hot encoded ', array([[1, 0],\n",
      "       [0, 1],\n",
      "       [0, 1],\n",
      "       [1, 0]]))\n",
      "\n",
      "---Starting Network Training ----\n",
      "\n"
     ]
    },
    {
     "data": {
      "image/png": "[encoded data removed]",
      "text/plain": [
       "<Figure size 432x288 with 1 Axes>"
      ]
     },
     "metadata": {
      "needs_background": "light"
     },
     "output_type": "display_data"
    },
    {
     "name": "stdout",
     "output_type": "stream",
     "text": [
      "Trained weights are:\n",
      " w1:[[ 4.28417279  1.39931958 -0.62834681  4.42926404]\n",
      " [-4.51464766 -1.01915475  2.12309353 -4.25571969]],\n",
      " b1:[-2.38786302  0.45342268 -0.00307824  2.28433696],\n",
      " w1:[[-3.18971347  5.34355395]\n",
      " [ 0.80321566  0.26297101]\n",
      " [-0.88881877 -0.35521382]\n",
      " [ 3.07636915 -4.52594523]],\n",
      " b2:[-0.78314101  2.5884234 ]\n",
      "\n",
      "---Network Training Done----\n",
      "\n",
      "\n",
      "\n",
      "---Starting Testing----\n",
      "\n",
      "Predicted[0 1 1 0], \n",
      " actual [0 1 1 0]\n",
      "\n",
      "\n",
      "---Testing Done----\n",
      "\n"
     ]
    }
   ],
   "source": [
    "import numpy as np\n",
    "import random \n",
    "import matplotlib.pyplot as plt\n",
    "\n",
    "class Network:\n",
    "\n",
    "    def __init__(self, alpha, input_count, hidden_count, out_count):\n",
    "        self.alpha = alpha\n",
    "        self.input_count = input_count\n",
    "        self.hidden_count = hidden_count\n",
    "        self.out_count = out_count - 1\n",
    "        \n",
    "        self.W1 = np.random.randn(input_count, hidden_count)\n",
    "        self.b1 = np.random.randn(hidden_count)\n",
    "        self.W2 = np.random.randn(hidden_count, out_count)\n",
    "        self.b2 = np.random.randn(out_count)\n",
    "        \n",
    "    def sigmoid(self,x):\n",
    "        return 1 / (1 + np.exp(-x))\n",
    "\n",
    "    def softmax(self,h):\n",
    "        exph = np.exp(h)\n",
    "        return exph / exph.sum(axis=1, keepdims=True)\n",
    "    \n",
    "    def init(self):\n",
    "        '''\n",
    "        This function does the following seuqentially:\n",
    "        1. Randomly Initialize Weights and Biases\n",
    "        2. Calls the train function that updates the weights\n",
    "        3. Calls the predict function that tests the weights and biases\n",
    "        '''\n",
    "        \n",
    "        \n",
    "        # SETTING INPUT FOR XOR GATE\n",
    "        X1 = np.array([0,0])\n",
    "        X2 = np.array([0,1])\n",
    "        X3 = np.array([1,0])\n",
    "        X4 = np.array([1,1])\n",
    "        X = np.vstack([X1, X2, X3, X4])\n",
    "\n",
    "        y = np.array([0,1,1,0])\n",
    "        Y_encoded = np.eye( 2, dtype=int)[y]\n",
    "        print (\"Y one hot encoded \", Y_encoded)\n",
    "        \n",
    "        # TRAINING THE NETWORK AND SAVING THE WEIGHTS\n",
    "        print (\"\\n---Starting Network Training ----\\n\")\n",
    "        self.train(X,Y_encoded)\n",
    "        print (\"\\n---Network Training Done----\\n\\n\")\n",
    "        \n",
    "        # TESTING THE NETWORK WITH THE TRUTH TABLE OF XOR\n",
    "        print (\"\\n---Starting Testing----\\n\")\n",
    "        Y_pred = self.predict(X)\n",
    "        print (\"Predicted{}, \\n actual {}\\n\".format(Y_pred, y))\n",
    "        print (\"\\n---Testing Done----\\n\")\n",
    "        \n",
    "            \n",
    "    def train(self,X, Y_encoded):\n",
    "        '''\n",
    "        This function performs the following: \n",
    "        1. Forward Propogation\n",
    "        2. Computes partial derivatives for w1,w2,b1,b2\n",
    "        3. Updates the weights \n",
    "        4. Plots the cost function with respect to iterations\n",
    "        '''\n",
    "        costs = []\n",
    "        for epoch in range(5000):\n",
    "            # forward pass\n",
    "            h1 = self.sigmoid(X.dot(self.W1) + self.b1) \n",
    "            y_hat = self.softmax(h1.dot(self.W2) + self.b2)\n",
    "\n",
    "            # backward pass\n",
    "            delta2 = y_hat - Y_encoded\n",
    "            delta1 = (delta2).dot(self.W2.transpose()) * h1 * (1 - h1)\n",
    "\n",
    "            self.W2 -= self.alpha * h1.T.dot(delta2)\n",
    "            self.b2 -= self.alpha * (delta2).sum(axis=0)\n",
    "\n",
    "            self.W1 -= self.alpha * X.T.dot(delta1)\n",
    "            self.b1 -= self.alpha * (delta1).sum(axis=0)\n",
    "\n",
    "            \n",
    "            if epoch % 100 == 0:\n",
    "                loss = np.sum(-Y_encoded * np.log(y_hat))\n",
    "                costs.append(loss)\n",
    "        \n",
    "        # Plotting the cost curve\n",
    "        fig, ax = plt.subplots()\n",
    "        plt.plot(costs)\n",
    "        ax.set_ylabel('Cost Value')\n",
    "        ax.set_xlabel('Iternations')\n",
    "        plt.show()\n",
    "        \n",
    "        print (\"Trained weights are:\\n w1:{},\\n b1:{},\\n w1:{},\\n b2:{}\".format(self.W1, self.b1, self.W2, self.b2))\n",
    "    \n",
    "    def predict(self,X):\n",
    "        h1 = self.sigmoid(X.dot(self.W1) + self.b1) \n",
    "        y_hat = self.softmax(h1.dot(self.W2) + self.b2) \n",
    "        Y_hat = y_hat.argmax(axis=1)\n",
    "        return (Y_hat) # Converting to one hot encoded\n",
    "\n",
    "mynetwork = Network(0.01, 2, 4, 2)\n",
    "mynetwork.init()"
   ]
  },
  {
   "cell_type": "markdown",
   "metadata": {},
   "source": [
    "## Part 2\n",
    "MNIST dataset is downloaded. \n",
    "Checking raw data."
   ]
  },
  {
   "cell_type": "code",
   "execution_count": 87,
   "metadata": {},
   "outputs": [
    {
     "data": {
      "image/png": "[encoded data removed]",
      "text/plain": [
       "<Figure size 432x288 with 1 Axes>"
      ]
     },
     "metadata": {
      "needs_background": "light"
     },
     "output_type": "display_data"
    },
    {
     "data": {
      "image/png": "[encoded data removed]",
      "text/plain": [
       "<Figure size 432x288 with 1 Axes>"
      ]
     },
     "metadata": {
      "needs_background": "light"
     },
     "output_type": "display_data"
    },
    {
     "data": {
      "image/png": "[encoded data removed]",
      "text/plain": [
       "<Figure size 432x288 with 1 Axes>"
      ]
     },
     "metadata": {
      "needs_background": "light"
     },
     "output_type": "display_data"
    },
    {
     "data": {
      "image/png": "[encoded data removed]",
      "text/plain": [
       "<Figure size 432x288 with 1 Axes>"
      ]
     },
     "metadata": {
      "needs_background": "light"
     },
     "output_type": "display_data"
    },
    {
     "data": {
      "image/png": "[encoded data removed]",
      "text/plain": [
       "<Figure size 432x288 with 1 Axes>"
      ]
     },
     "metadata": {
      "needs_background": "light"
     },
     "output_type": "display_data"
    },
    {
     "data": {
      "image/png": "[encoded data removed]",
      "text/plain": [
       "<Figure size 432x288 with 1 Axes>"
      ]
     },
     "metadata": {
      "needs_background": "light"
     },
     "output_type": "display_data"
    },
    {
     "data": {
      "image/png": "[encoded data removed]",
      "text/plain": [
       "<Figure size 432x288 with 1 Axes>"
      ]
     },
     "metadata": {
      "needs_background": "light"
     },
     "output_type": "display_data"
    },
    {
     "data": {
      "image/png": "[encoded data removed]",
      "text/plain": [
       "<Figure size 432x288 with 1 Axes>"
      ]
     },
     "metadata": {
      "needs_background": "light"
     },
     "output_type": "display_data"
    },
    {
     "data": {
      "image/png": "[encoded data removed]",
      "text/plain": [
       "<Figure size 432x288 with 1 Axes>"
      ]
     },
     "metadata": {
      "needs_background": "light"
     },
     "output_type": "display_data"
    },
    {
     "data": {
      "image/png": "[encoded data removed]",
      "text/plain": [
       "<Figure size 432x288 with 1 Axes>"
      ]
     },
     "metadata": {
      "needs_background": "light"
     },
     "output_type": "display_data"
    }
   ],
   "source": [
    "import scipy.io as sio\n",
    "import numpy as np\n",
    "import random\n",
    "\n",
    "from sklearn.datasets.base import get_data_home \n",
    "\n",
    "df = sio.loadmat(\"mnist-original.mat\")                 #If data saved in the same directory as the ipynb file\n",
    "#df = sio.loadmat(get_data_home()+\"/mnist-original.mat\") #If data saved in sklearn directory\n",
    "\n",
    "Y = df['label'].transpose()\n",
    "X = df['data'].transpose()\n",
    "\n",
    "\n",
    "temp = []\n",
    "X_ind = []\n",
    "for i in range(100):    \n",
    "    r=random.randint(0,len(X))   #obtaining a random sample from the training data\n",
    "    if Y[r][0] not in temp:\n",
    "        temp.append(Y[r][0])\n",
    "        X_ind.append(X[r])\n",
    "\n",
    "for img in X_ind:\n",
    "    plt.imshow(img.reshape(28, 28),cmap='Greys')\n",
    "    plt.show()"
   ]
  },
  {
   "cell_type": "markdown",
   "metadata": {},
   "source": [
    "## Splitting the data using 10 fold cross validation"
   ]
  },
  {
   "cell_type": "code",
   "execution_count": 88,
   "metadata": {},
   "outputs": [
    {
     "name": "stdout",
     "output_type": "stream",
     "text": [
      "Dimensions of X_train=(56001L, 784L), X_Test=(7000L, 784L), X_Validation=(7000L, 784L)\n",
      "Dimensions of Y_train=(56001L, 1L), Y_Test=(7000L, 1L), Y_Validation=(7000L, 1L)\n"
     ]
    }
   ],
   "source": [
    "n_splits=10\n",
    "\n",
    "# Randomly shffling data\n",
    "combined = np.concatenate((X,Y), axis = 1)\n",
    "np.random.shuffle(combined)\n",
    "\n",
    "np.random.seed(101)\n",
    "x_, y_ = np.split(combined,[X.shape[1]], axis = 1)\n",
    "y_ = y_.astype(int)\n",
    "\n",
    "# Dividing the data into 10 folds\n",
    "yInstances = []\n",
    "XList = np.split(x_, 10)\n",
    "YList = np.split(y_,10)\n",
    "\n",
    "\n",
    "\n",
    "X_train = np.zeros((1,X.shape[1]))\n",
    "Y_train = np.zeros((1,1))\n",
    "\n",
    "for i, x in enumerate(XList):\n",
    "    yInstances.append(np.bincount(YList[i].flatten()))\n",
    "   \n",
    "    if (i <8):\n",
    "        # Merging the first 8 together\n",
    "        X_train = np.vstack((X_train, XList[i]))\n",
    "        Y_train = np.vstack((Y_train, YList[i]))\n",
    "\n",
    "X_test = XList[8]\n",
    "Y_test = YList[8]\n",
    "        \n",
    "X_cv = XList[9]\n",
    "Y_cv = YList[9]\n",
    "\n",
    "print ('Dimensions of X_train={}, X_Test={}, X_Validation={}'.format(X_train.shape, X_test.shape, X_cv.shape))\n",
    "print ('Dimensions of Y_train={}, Y_Test={}, Y_Validation={}'.format(Y_train.shape, Y_test.shape, Y_cv.shape))"
   ]
  },
  {
   "cell_type": "markdown",
   "metadata": {},
   "source": [
    "### Checking the data distributions for each split."
   ]
  },
  {
   "cell_type": "code",
   "execution_count": 22,
   "metadata": {
    "scrolled": false
   },
   "outputs": [
    {
     "data": {
      "image/png": "[encoded data removed]",
      "text/plain": [
       "<Figure size 432x288 with 1 Axes>"
      ]
     },
     "metadata": {
      "needs_background": "light"
     },
     "output_type": "display_data"
    }
   ],
   "source": [
    "import matplotlib.pyplot as plt\n",
    "# yInstances\n",
    "\n",
    "fig, ax = plt.subplots()\n",
    "ax.boxplot(yInstances, vert = True , showfliers = True)\n",
    "ax.set_title('Distribution of Data for 10 folds')\n",
    "ax.set_xlabel('10 Folds')\n",
    "ax.set_ylabel('Distribution')\n",
    "plt.show()"
   ]
  },
  {
   "cell_type": "markdown",
   "metadata": {},
   "source": [
    "### Median is centered about 700\n",
    "\n",
    "The graph shows the distribution of each number within all the 10 folds of dataset. \n",
    "The box plot shows data is centered about the median value (around 700 instances per digit per fold).\n",
    "\n",
    "Size of each fold = 7000\n",
    "\n",
    "Number of digits(0 to 9) per fold = 10\n",
    "\n",
    "Distribution of each digit = 7000/10 = 700"
   ]
  },
  {
   "cell_type": "markdown",
   "metadata": {},
   "source": [
    "## Part 3\n",
    "### Training the neural network for MNIST dataset"
   ]
  },
  {
   "cell_type": "code",
   "execution_count": 92,
   "metadata": {},
   "outputs": [
    {
     "name": "stderr",
     "output_type": "stream",
     "text": [
      "C:\\Users\\bhati\\Anaconda2\\lib\\site-packages\\ipykernel_launcher.py:4: RuntimeWarning: overflow encountered in exp\n",
      "  after removing the cwd from sys.path.\n"
     ]
    },
    {
     "name": "stdout",
     "output_type": "stream",
     "text": [
      "Epoch 0, validation cost difference from previous epoch:123351\n",
      "Epoch 1, validation cost difference from previous epoch:123351\n",
      "Epoch 2, validation cost difference from previous epoch:38258\n",
      "Epoch 3, validation cost difference from previous epoch:53302\n",
      "Epoch 4, validation cost difference from previous epoch:41404\n",
      "Epoch 5, validation cost difference from previous epoch:21446\n",
      "Epoch 6, validation cost difference from previous epoch:13170\n",
      "Epoch 7, validation cost difference from previous epoch:8983\n",
      "Epoch 8, validation cost difference from previous epoch:6920\n",
      "Epoch 9, validation cost difference from previous epoch:5669\n",
      "Epoch 10, validation cost difference from previous epoch:1465\n",
      "Epoch 11, validation cost difference from previous epoch:513\n",
      "Epoch 12, validation cost difference from previous epoch:513\n",
      "Epoch 13, validation cost difference from previous epoch:425\n",
      "Epoch 14, validation cost difference from previous epoch:375\n",
      "Epoch 15, validation cost difference from previous epoch:214\n",
      "Epoch 16, validation cost difference from previous epoch:470\n",
      "Epoch 17, validation cost difference from previous epoch:42\n",
      "\n",
      " Training took 0.215649998188 minutes \n"
     ]
    },
    {
     "data": {
      "image/png": "[encoded data removed]",
      "text/plain": [
       "<Figure size 432x288 with 1 Axes>"
      ]
     },
     "metadata": {
      "needs_background": "light"
     },
     "output_type": "display_data"
    }
   ],
   "source": [
    "import time\n",
    "\n",
    "def sigmoid(x):\n",
    "    return 1 / (1 + np.exp(-x))\n",
    "\n",
    "def softmax(A):\n",
    "    expA = np.exp(A)\n",
    "    return expA / expA.sum(axis=1, keepdims=True)\n",
    "\n",
    "out_count = len(np.bincount(Y_test.reshape(Y_test.shape[0],)))\n",
    "hidden_count = 100\n",
    "input_count = len(X_test[1])\n",
    "\n",
    "#one hot encoding\n",
    "Y_encoded = np.eye( out_count, dtype=int)[Y_train.astype(int).reshape(len(Y_train), )]\n",
    "Y_cv_en = np.eye( out_count, dtype=int)[Y_cv.astype(int).reshape(len(Y_cv), )]\n",
    "\n",
    "\n",
    "# randomly initialize weights\n",
    "W1 = np.random.randn(input_count, hidden_count)\n",
    "b1 = np.random.randn(hidden_count)\n",
    "W2 = np.random.randn(hidden_count, out_count)\n",
    "b2 = np.random.randn(out_count)\n",
    "\n",
    "costs = []\n",
    "alpha = 0.0001\n",
    "X = X_train\n",
    "\n",
    "t0 = time.time()\n",
    "\n",
    "# trainig\n",
    "cost_validation = [0]\n",
    "costs = []\n",
    "for epoch in range(1000):\n",
    "    # forward pass\n",
    "    h1 = sigmoid(X.dot(W1) + b1) \n",
    "    y_hat = softmax(h1.dot(W2) + b2) # Y = softmax(Z2)\n",
    "\n",
    "    # backward pass\n",
    "    delta2 = y_hat - Y_encoded\n",
    "    delta1 = (delta2).dot(W2.transpose()) * h1 * (1 - h1)\n",
    "    \n",
    "    W2 -= alpha * h1.T.dot(delta2)\n",
    "    b2 -= alpha * (delta2).sum(axis=0)\n",
    "\n",
    "    W1 -= alpha * X.T.dot(delta1)\n",
    "    b1 -= alpha * (delta1).sum(axis=0)\n",
    "        \n",
    "    costs.append(int(np.sum(-Y_cv_en * np.log(y_hat_c))))\n",
    "    \n",
    "    # testing on the validation set for early stopping\n",
    "    h1_c = sigmoid(X_cv.dot(W1) + b1) \n",
    "    y_hat_c = softmax(h1_c.dot(W2) + b2) \n",
    "    \n",
    "    val_c =  int(np.sum(-Y_cv_en * np.log(y_hat_c))) # validation cost\n",
    "    cost_validation.append(val_c)\n",
    "    diff =  abs(cost_validation[epoch] - cost_validation[epoch-1])\n",
    "    print (\"Epoch {}, validation cost difference from previous epoch:{}\".format(epoch, diff))\n",
    "    if (diff < 50): # Delemitor condition\n",
    "        break\n",
    "    \n",
    "print (\"\\n Training took {} minutes \".format((time.time() - t0)/60.0))\n",
    "\n",
    "fig, ax = plt.subplots()\n",
    "plt.plot(costs)\n",
    "ax.set_ylabel('Cost Value')\n",
    "ax.set_xlabel('Iternations')\n",
    "plt.show()"
   ]
  },
  {
   "cell_type": "code",
   "execution_count": 90,
   "metadata": {},
   "outputs": [
    {
     "name": "stdout",
     "output_type": "stream",
     "text": [
      "The testing accuracy is 75.6714285714 %\n"
     ]
    },
    {
     "name": "stderr",
     "output_type": "stream",
     "text": [
      "C:\\Users\\bhati\\Anaconda2\\lib\\site-packages\\ipykernel_launcher.py:4: RuntimeWarning: overflow encountered in exp\n",
      "  after removing the cwd from sys.path.\n"
     ]
    }
   ],
   "source": [
    "#predict on training set\n",
    "def predict(X):\n",
    "    h1 = sigmoid(X.dot(W1) + b1) \n",
    "    y_hat = softmax(h1.dot(W2) + b2) # Y = softmax(Z2)\n",
    "    return (y_hat) # Converting to one hot encoded\n",
    "\n",
    "\n",
    "#plt.imshow(X_test[0].reshape(28, 28),cmap='Greys')\n",
    "\n",
    "y_predicted = predict(X_test)\n",
    "Y_predicted = y_predicted.argmax(axis=1)\n",
    "\n",
    "(Y_predicted==Y_test).sum() \n",
    "\n",
    "acc = np.count_nonzero(Y_predicted.reshape(len(Y_predicted), 1) == Y_test) / (len(Y_test) + 0.0)\n",
    "print (\"The testing accuracy is {} %\".format(acc * 100))"
   ]
  },
  {
   "cell_type": "markdown",
   "metadata": {},
   "source": [
    "## Additional Notes\n",
    "\n",
    "Instead of using softmax and negative log likelihood, if we use sigmoid with MLE, our network would not train for the class corresponding to the one hot encoded y classes, as softmax distributes the probabilities for each output nodes. The probabilities for 0,1.. will be p(y0/x) , p(y1/x).. etc. The sum of probabilities for each of output softmax nodes will be 1. This helps us by increasing the function value of one class and highly reducing values for the other classes. This will not happen with sigmoid activation. With sigmoid activation, each node at the output layer will predict a high value (which is not distributed based on probabilities), which will not allow the network to be trained for specifically for the one-hot encoded class. \n",
    "Hence, we use softmax for multiclass classification and sigmoid for binary classification.\n"
   ]
  }
 ],
 "metadata": {
  "kernelspec": {
   "display_name": "Python 3",
   "language": "python",
   "name": "python3"
  },
  "language_info": {
   "codemirror_mode": {
    "name": "ipython",
    "version": 3
   },
   "file_extension": ".py",
   "mimetype": "text/x-python",
   "name": "python",
   "nbconvert_exporter": "python",
   "pygments_lexer": "ipython3",
   "version": "3.7.3"
  }
 },
 "nbformat": 4,
 "nbformat_minor": 2
}
